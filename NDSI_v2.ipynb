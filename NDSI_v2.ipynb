{
 "cells": [
  {
   "cell_type": "code",
   "execution_count": null,
   "metadata": {},
   "outputs": [],
   "source": [
    "import rasterio\n",
    "from rasterio import plot\n",
    "import matplotlib.pyplot as plt\n",
    "import numpy as np\n",
    "%matplotlib inline"
   ]
  },
  {
   "cell_type": "code",
   "execution_count": null,
   "metadata": {},
   "outputs": [],
   "source": [
    "band4=rasterio.open(\"Images\\B5_swir1.tif\")\n",
    "band5=rasterio.open(\"Images\\B7_swir2.tif\")"
   ]
  },
  {
   "cell_type": "code",
   "execution_count": null,
   "metadata": {},
   "outputs": [],
   "source": [
    "fig, (ax1, ax2) = plt.subplots(1, 2, figsize=(12, 6))\n",
    "plot.show(band4, ax=ax1, cmap='gray', title='SWIR1')\n",
    "plot.show(band5, ax=ax2, cmap='gray', title='SWIR2')\n",
    "fig.tight_layout()"
   ]
  },
  {
   "cell_type": "code",
   "execution_count": null,
   "metadata": {},
   "outputs": [],
   "source": [
    "swir1=band4.read(1).astype('float64')\n",
    "swir2=band5.read(1).astype('float64')"
   ]
  },
  {
   "cell_type": "code",
   "execution_count": null,
   "metadata": {},
   "outputs": [],
   "source": [
    "NDSI=np.where(\n",
    "    (swir1+swir2)==0., \n",
    "    0, \n",
    "    (swir1-swir2)/(swir1+swir2))"
   ]
  },
  {
   "cell_type": "code",
   "execution_count": null,
   "metadata": {},
   "outputs": [],
   "source": [
    "NDSI_image_v2 = rasterio.open('NDSI_image_v2_output.tiff','w',driver='Gtiff',\n",
    "                          width=band4.width, \n",
    "                          height = band4.height, \n",
    "                          count=1, crs=band4.crs, \n",
    "                          transform=band4.transform, \n",
    "                          dtype='float64')\n",
    "NDSI_image_v2.write(NDSI,1)\n",
    "NDSI_image_v2.close()"
   ]
  },
  {
   "cell_type": "code",
   "execution_count": null,
   "metadata": {},
   "outputs": [],
   "source": [
    "NDSIimg = rasterio.open('NDSI_image_v2_output.tiff')\n",
    "fig = plt.figure(figsize=(18,12))\n",
    "plot.show(NDSIimg, cmap='gray', title='Normalized Difference Salinity Index')"
   ]
  },
  {
   "cell_type": "code",
   "execution_count": null,
   "metadata": {},
   "outputs": [],
   "source": [
    "from skimage import io, exposure\n",
    "import skimage.io"
   ]
  },
  {
   "cell_type": "code",
   "execution_count": null,
   "metadata": {},
   "outputs": [],
   "source": [
    "def image_histogram(img):\n",
    "    \n",
    "    co, ce = exposure.histogram(NDSI)\n",
    "    \n",
    "    fig = plt.figure(figsize=(40, 10))\n",
    "    fig.set_facecolor('white')\n",
    "    plt.plot(ce[1::], co[1::])\n",
    "    plt.show()"
   ]
  },
  {
   "cell_type": "code",
   "execution_count": null,
   "metadata": {},
   "outputs": [],
   "source": [
    "image_histogram(NDSIimg)"
   ]
  },
  {
   "cell_type": "code",
   "execution_count": null,
   "metadata": {},
   "outputs": [],
   "source": []
  }
 ],
 "metadata": {
  "kernelspec": {
   "display_name": "Python 3",
   "language": "python",
   "name": "python3"
  },
  "language_info": {
   "codemirror_mode": {
    "name": "ipython",
    "version": 3
   },
   "file_extension": ".py",
   "mimetype": "text/x-python",
   "name": "python",
   "nbconvert_exporter": "python",
   "pygments_lexer": "ipython3",
   "version": "3.6.12"
  }
 },
 "nbformat": 4,
 "nbformat_minor": 4
}
